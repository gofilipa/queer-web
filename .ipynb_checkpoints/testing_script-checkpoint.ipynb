{
 "cells": [
  {
   "cell_type": "code",
   "execution_count": 1,
   "id": "23bb7946",
   "metadata": {},
   "outputs": [],
   "source": [
    "import pandas as pd\n",
    "import spacy\n",
    "import matplotlib.pyplot as plt\n",
    "import seaborn as sns\n",
    "sns.set()\n",
    "import pyLDAvis.gensim_models\n",
    "from gensim.corpora.dictionary import Dictionary\n",
    "from gensim.models import LdaMulticore\n",
    "from gensim.models import CoherenceModel"
   ]
  },
  {
   "cell_type": "code",
   "execution_count": 7,
   "id": "7ca4c44d",
   "metadata": {},
   "outputs": [],
   "source": [
    "def load(file):\n",
    "\n",
    "    df = pd.read_csv(file, nrows=100)\n",
    "    content = df['content']\n",
    "    return content"
   ]
  },
  {
   "cell_type": "code",
   "execution_count": 8,
   "id": "9da6ee62",
   "metadata": {},
   "outputs": [],
   "source": [
    "def token_filter(token):\n",
    "    return not (token.is_punct | token.is_space | token.is_stop | \n",
    "                len(token.text) <= 2 | token.is_ascii | token.like_url | \n",
    "                token.like_num | token.like_email)"
   ]
  },
  {
   "cell_type": "code",
   "execution_count": 9,
   "id": "ca53d507",
   "metadata": {},
   "outputs": [],
   "source": [
    "def clean(content):\n",
    "    nlp = spacy.load(\"en_core_web_sm\") # could exclude things like\n",
    "    # tagger, ner, etc. \n",
    "    \n",
    "    filtered_tokens = [] \n",
    "    # uses list() for batch procesing\n",
    "    for i in list(nlp.pipe(content)):\n",
    "        tokens = [token.lemma_.lower() for token in i if\n",
    "    token_filter(token)]\n",
    "        filtered_tokens.append(tokens)\n",
    "\n",
    "    return filtered_tokens"
   ]
  },
  {
   "cell_type": "code",
   "execution_count": 10,
   "id": "0e1bd52f",
   "metadata": {},
   "outputs": [],
   "source": [
    "def clean(content):\n",
    "    nlp = spacy.load(\"en_core_web_sm\") # could exclude things like\n",
    "    # tagger, ner, etc. \n",
    "    \n",
    "    filtered_tokens = [] \n",
    "    # uses list() for batch procesing\n",
    "    for i in list(nlp.pipe(content)):\n",
    "        tokens = [token.lemma_.lower() for token in i if\n",
    "    token_filter(token)]\n",
    "        filtered_tokens.append(tokens)\n",
    "\n",
    "    return filtered_tokens\n",
    "\n",
    "def run_lda(filtered_tokens):\n",
    "    dictionary = Dictionary(filtered_tokens)\n",
    "    dictionary.filter_extremes(\n",
    "        no_below=5, \n",
    "        no_above=0.5 \n",
    "        #keep_n=1000\n",
    "    )\n",
    "    corpus = [dictionary.doc2bow(doc) for doc in filtered_tokens]\n",
    "    lda_model = LdaMulticore(\n",
    "        corpus=corpus, \n",
    "        id2word=dictionary, \n",
    "        iterations=100, \n",
    "        num_topics=16, \n",
    "        workers = 2, \n",
    "        passes=100\n",
    "    )\n",
    "\n",
    "    return lda_model.print_topics(-1)"
   ]
  },
  {
   "cell_type": "code",
   "execution_count": null,
   "id": "51d6c422",
   "metadata": {},
   "outputs": [],
   "source": [
    "content = load(\"lgbtcol.csv\")\n",
    "cleaned = clean(content) \n",
    "run_lda(cleaned)"
   ]
  },
  {
   "cell_type": "code",
   "execution_count": null,
   "id": "a160830c",
   "metadata": {},
   "outputs": [],
   "source": []
  }
 ],
 "metadata": {
  "kernelspec": {
   "display_name": "Python 3 (ipykernel)",
   "language": "python",
   "name": "python3"
  },
  "language_info": {
   "codemirror_mode": {
    "name": "ipython",
    "version": 3
   },
   "file_extension": ".py",
   "mimetype": "text/x-python",
   "name": "python",
   "nbconvert_exporter": "python",
   "pygments_lexer": "ipython3",
   "version": "3.11.0"
  }
 },
 "nbformat": 4,
 "nbformat_minor": 5
}
