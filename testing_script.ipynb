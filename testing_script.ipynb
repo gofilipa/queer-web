{
 "cells": [
  {
   "cell_type": "code",
   "execution_count": 1,
   "id": "97722409",
   "metadata": {},
   "outputs": [],
   "source": [
    "import pandas as pd\n",
    "import spacy\n",
    "import matplotlib.pyplot as plt\n",
    "import seaborn as sns\n",
    "sns.set()\n",
    "import pyLDAvis.gensim_models\n",
    "from gensim.corpora.dictionary import Dictionary\n",
    "from gensim.models import LdaMulticore\n",
    "from gensim.models import CoherenceModel"
   ]
  },
  {
   "cell_type": "code",
   "execution_count": 7,
   "id": "eafd94d8",
   "metadata": {},
   "outputs": [],
   "source": [
    "def load(file):\n",
    "\n",
    "    df = pd.read_csv(file, nrows=100)\n",
    "    content = df['content']\n",
    "    return content"
   ]
  },
  {
   "cell_type": "code",
   "execution_count": 8,
   "id": "6c4308f3",
   "metadata": {},
   "outputs": [],
   "source": [
    "def token_filter(token):\n",
    "    return not (token.is_punct | token.is_space | token.is_stop | \n",
    "                len(token.text) <= 2 | token.is_ascii | token.like_url | \n",
    "                token.like_num | token.like_email)"
   ]
  },
  {
   "cell_type": "code",
   "execution_count": 9,
   "id": "1163ea94",
   "metadata": {},
   "outputs": [],
   "source": [
    "def clean(content):\n",
    "    nlp = spacy.load(\"en_core_web_sm\") # could exclude things like\n",
    "    # tagger, ner, etc. \n",
    "    \n",
    "    filtered_tokens = [] \n",
    "    # uses list() for batch procesing\n",
    "    for i in list(nlp.pipe(content)):\n",
    "        tokens = [token.lemma_.lower() for token in i if\n",
    "    token_filter(token)]\n",
    "        filtered_tokens.append(tokens)\n",
    "\n",
    "    return filtered_tokens"
   ]
  },
  {
   "cell_type": "code",
   "execution_count": 12,
   "id": "fe8206be",
   "metadata": {},
   "outputs": [],
   "source": [
    "def run_lda(filtered_tokens):\n",
    "    dictionary = Dictionary(filtered_tokens)\n",
    "    dictionary.filter_extremes(\n",
    "        no_below=5, \n",
    "        no_above=0.5 \n",
    "        #keep_n=1000\n",
    "    )\n",
    "    corpus = [dictionary.doc2bow(doc) for doc in filtered_tokens]\n",
    "    lda_model = LdaMulticore(\n",
    "        corpus=corpus, \n",
    "        id2word=dictionary, \n",
    "        iterations=100, \n",
    "        num_topics=16, \n",
    "        workers = 2, \n",
    "        passes=100\n",
    "    )\n",
    "\n",
    "    return lda_model.print_topics(-1)"
   ]
  },
  {
   "cell_type": "code",
   "execution_count": 11,
   "id": "34697076",
   "metadata": {},
   "outputs": [
    {
     "data": {
      "text/plain": [
       "[(0,\n",
       "  '0.034*\"view\" + 0.030*\"soulforce\" + 0.022*\"post\" + 0.021*\"forums\" + 0.019*\"community\" + 0.013*\"press\" + 0.013*\"task\" + 0.012*\"force\" + 0.012*\"search\" + 0.012*\"forum\"'),\n",
       " (1,\n",
       "  '0.026*\"glaad\" + 0.026*\"prop\" + 0.019*\"post\" + 0.018*\"marriage\" + 0.017*\"what\" + 0.016*\"california\" + 0.015*\"july\" + 0.015*\"watch\" + 0.014*\"blog\" + 0.014*\"monday\"'),\n",
       " (2,\n",
       "  '0.019*\"life\" + 0.014*\"they\" + 0.012*\"abortion\" + 0.010*\"their\" + 0.009*\"’s\" + 0.008*\"child\" + 0.008*\"say\" + 0.008*\"be\" + 0.008*\"will\" + 0.007*\"family\"'),\n",
       " (3,\n",
       "  '0.021*\"photo\" + 0.011*\"campaign\" + 0.011*\"learn\" + 0.011*\"group\" + 0.011*\"comment\" + 0.011*\"click\" + 0.011*\"sign\" + 0.011*\"donate\" + 0.011*\"help\" + 0.011*\"creative\"'),\n",
       " (4,\n",
       "  '0.030*\"say\" + 0.026*\"reply\" + 0.026*\"2015\" + 0.025*\"january\" + 0.021*\"chief\" + 0.019*\"right\" + 0.018*\"mayor\" + 0.012*\"fire\" + 0.011*\"’s\" + 0.011*\"what\"'),\n",
       " (5,\n",
       "  '0.027*\"cabin\" + 0.025*\"republicans\" + 0.024*\"pride\" + 0.020*\"calendar\" + 0.019*\"center\" + 0.016*\"chapter\" + 0.014*\"event\" + 0.014*\"events\" + 0.013*\"donate\" + 0.013*\"utah\"'),\n",
       " (6,\n",
       "  '0.086*\"tweet\" + 0.060*\"twitter\" + 0.035*\"close\" + 0.020*\"republic\" + 0.014*\"vodafone\" + 0.014*\"40404\" + 0.012*\"location\" + 0.011*\"bahasa\" + 0.010*\"2016\" + 0.010*\"english\"'),\n",
       " (7,\n",
       "  '0.030*\"equality\" + 0.022*\"lgbt\" + 0.021*\"pride\" + 0.011*\"community\" + 0.011*\"foundation\" + 0.010*\"’s\" + 0.010*\"local\" + 0.010*\"state\" + 0.009*\"story\" + 0.009*\"youth\"'),\n",
       " (8,\n",
       "  '0.029*\"military\" + 0.029*\"2009\" + 0.026*\"2010\" + 0.019*\"2007\" + 0.019*\"february\" + 0.018*\"service\" + 0.018*\"tell\" + 0.017*\"2008\" + 0.016*\"2011\" + 0.013*\"congress\"'),\n",
       " (9,\n",
       "  '0.036*\"event\" + 0.020*\"2011\" + 0.011*\"lgbt\" + 0.011*\"campaign\" + 0.010*\"city\" + 0.009*\"october\" + 0.009*\"read\" + 0.008*\"august\" + 0.008*\"history\" + 0.008*\"comment\"'),\n",
       " (10,\n",
       "  '0.018*\"august\" + 0.018*\"2008\" + 0.014*\"they\" + 0.014*\"marriage\" + 0.012*\"comment\" + 0.011*\"will\" + 0.011*\"court\" + 0.011*\"what\" + 0.009*\"be\" + 0.009*\"obama\"'),\n",
       " (11,\n",
       "  '0.077*\"marriage\" + 0.033*\"topic\" + 0.031*\"family\" + 0.030*\"category\" + 0.022*\"state\" + 0.018*\"post\" + 0.013*\"same\" + 0.013*\"tag\" + 0.013*\"source\" + 0.011*\"’s\"'),\n",
       " (12,\n",
       "  '0.013*\"2012\" + 0.013*\"year\" + 0.011*\"york\" + 0.011*\"july\" + 0.011*\"convention\" + 0.011*\"after\" + 0.008*\"member\" + 0.008*\"association\" + 0.008*\"chapter\" + 0.008*\"chicago\"'),\n",
       " (13,\n",
       "  '0.022*\"2010\" + 0.021*\"sacramento\" + 0.020*\"capitol\" + 0.019*\"dateline\" + 0.019*\"local\" + 0.019*\"week\" + 0.018*\"inside\" + 0.016*\"links\" + 0.013*\"california\" + 0.012*\"’s\"'),\n",
       " (14,\n",
       "  '0.026*\"online\" + 0.022*\"store\" + 0.018*\"karen\" + 0.018*\"high\" + 0.016*\"2012\" + 0.014*\"michael\" + 0.012*\"week\" + 0.012*\"family\" + 0.011*\"write\" + 0.010*\"louis\"'),\n",
       " (15,\n",
       "  '0.032*\"paris\" + 0.016*\"times\" + 0.014*\"daily\" + 0.014*\"press\" + 0.014*\"journal\" + 0.012*\"2009\" + 0.011*\"equality\" + 0.010*\"2010\" + 0.010*\"account\" + 0.008*\"california\"')]"
      ]
     },
     "execution_count": 11,
     "metadata": {},
     "output_type": "execute_result"
    }
   ],
   "source": [
    "content = load(\"lgbtcol.csv\")\n",
    "cleaned = clean(content) \n",
    "run_lda(cleaned)"
   ]
  },
  {
   "cell_type": "code",
   "execution_count": null,
   "id": "2d2ffea7",
   "metadata": {},
   "outputs": [],
   "source": []
  }
 ],
 "metadata": {
  "kernelspec": {
   "display_name": "Python 3 (ipykernel)",
   "language": "python",
   "name": "python3"
  },
  "language_info": {
   "codemirror_mode": {
    "name": "ipython",
    "version": 3
   },
   "file_extension": ".py",
   "mimetype": "text/x-python",
   "name": "python",
   "nbconvert_exporter": "python",
   "pygments_lexer": "ipython3",
   "version": "3.11.0"
  }
 },
 "nbformat": 4,
 "nbformat_minor": 5
}
